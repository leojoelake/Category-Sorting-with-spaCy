{
 "cells": [
  {
   "cell_type": "code",
   "execution_count": 79,
   "id": "d631affa-395c-4bfe-a443-9c201226e894",
   "metadata": {},
   "outputs": [],
   "source": [
    "from spacy.tokens import DocBin\n",
    "import pandas as pd\n",
    "import string\n",
    "import spacy\n",
    "import gensim\n",
    "from gensim.utils import simple_preprocess"
   ]
  },
  {
   "cell_type": "code",
   "execution_count": 81,
   "id": "fefb9a43-0f8d-4e76-9efb-fd07ed126748",
   "metadata": {},
   "outputs": [],
   "source": [
    "train_data = pd.read_excel(\"severity_training.xlsx\")\n",
    "valid_data = pd.read_excel(\"severity_training.xlsx\")"
   ]
  },
  {
   "cell_type": "code",
   "execution_count": 83,
   "id": "44133b35-6c43-43f2-abd6-f78c0008e293",
   "metadata": {},
   "outputs": [],
   "source": [
    "train_data = list(train_data.itertuples(index = False, name = None))\n",
    "valid_data = list(valid_data.itertuples(index = False, name = None))"
   ]
  },
  {
   "cell_type": "code",
   "execution_count": 85,
   "id": "ba280163-b684-4612-bfcc-b8bd8b86dd65",
   "metadata": {},
   "outputs": [],
   "source": [
    "def remove_punctuation(input_string):\n",
    "        translator = str.maketrans(\"\",\"\", string.punctuation)\n",
    "        return input_string.translate(translator)\n",
    "\n",
    "def note_replacer(note_value):\n",
    "    clean_note = \"\"  \n",
    "    note_value = remove_punctuation(note_value)    \n",
    "    for char in note_value:\n",
    "        if char.isalpha():\n",
    "            clean_note += char.lower()\n",
    "        else:\n",
    "            clean_note += char\n",
    "    return clean_note"
   ]
  },
  {
   "cell_type": "code",
   "execution_count": 87,
   "id": "f194daef-f50f-44ae-af55-d31dd37e1dc6",
   "metadata": {},
   "outputs": [],
   "source": [
    "for value in train_data:\n",
    "    index = train_data.index(value)\n",
    "    value = (note_replacer(value[0]), value[1])\n",
    "    train_data[index] = value\n",
    "\n",
    "for value in valid_data:\n",
    "    index = valid_data.index(value)\n",
    "    value = (note_replacer(value[0]), value[1])\n",
    "    valid_data[index] = value"
   ]
  },
  {
   "cell_type": "code",
   "execution_count": 89,
   "id": "b3a997d5-d85b-46f5-a8ed-64ee14422650",
   "metadata": {},
   "outputs": [],
   "source": [
    "def make_docs(data):\n",
    "    docs = []\n",
    "    for doc, label in nlp.pipe(data, as_tuples = True):\n",
    "        if label == \"low\":\n",
    "            doc.cats[\"low\"] = 1\n",
    "            doc.cats[\"moderate\"] = 0\n",
    "            doc.cats[\"high\"] = 0\n",
    "        elif label == \"moderate\":\n",
    "            doc.cats[\"low\"] = 0\n",
    "            doc.cats[\"moderate\"] = 1\n",
    "            doc.cats[\"high\"] = 0\n",
    "        elif label == \"high\":\n",
    "            doc.cats[\"low\"] = 0\n",
    "            doc.cats[\"moderate\"] = 0\n",
    "            doc.cats[\"high\"] = 1\n",
    "        docs.append(doc)\n",
    "    return(docs)"
   ]
  },
  {
   "cell_type": "code",
   "execution_count": 91,
   "id": "1fd716e7-f41a-4b45-bcce-133184f26898",
   "metadata": {},
   "outputs": [],
   "source": [
    "nlp = spacy.load(\"en_core_web_lg\")"
   ]
  },
  {
   "cell_type": "code",
   "execution_count": 92,
   "id": "03c6af9b-0476-482b-ba7f-c2600af52415",
   "metadata": {},
   "outputs": [],
   "source": [
    "num_texts = 1000\n",
    "\n",
    "train_docs = make_docs(train_data[:num_texts])\n",
    "doc_bin = DocBin(docs=train_docs)\n",
    "doc_bin.to_disk(\"./data/train.spacy\")\n",
    "\n",
    "valid_docs = make_docs(valid_data[:num_texts])\n",
    "doc_bin = DocBin(docs=valid_docs)\n",
    "doc_bin.to_disk(\"./data/valid.spacy\")"
   ]
  },
  {
   "cell_type": "code",
   "execution_count": null,
   "id": "b4b896ea-3c0b-441e-971c-09ddbd70fbf9",
   "metadata": {},
   "outputs": [],
   "source": []
  }
 ],
 "metadata": {
  "kernelspec": {
   "display_name": "Python 3 (ipykernel)",
   "language": "python",
   "name": "python3"
  },
  "language_info": {
   "codemirror_mode": {
    "name": "ipython",
    "version": 3
   },
   "file_extension": ".py",
   "mimetype": "text/x-python",
   "name": "python",
   "nbconvert_exporter": "python",
   "pygments_lexer": "ipython3",
   "version": "3.11.7"
  }
 },
 "nbformat": 4,
 "nbformat_minor": 5
}
