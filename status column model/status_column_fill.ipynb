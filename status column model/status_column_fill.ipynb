{
 "cells": [
  {
   "cell_type": "code",
   "execution_count": null,
   "id": "60aec692-7641-4a63-9d9e-55ba17f9e9a0",
   "metadata": {},
   "outputs": [],
   "source": [
    "import spacy\n",
    "import string\n",
    "import pandas as pd\n",
    "import gensim\n",
    "from gensim.utils import simple_preprocess"
   ]
  },
  {
   "cell_type": "code",
   "execution_count": null,
   "id": "d4d92fe5-9983-44f0-8d37-ceb21332f722",
   "metadata": {},
   "outputs": [],
   "source": [
    "train_data = pd.read_excel(\"severity_training.xlsx\")\n",
    "valid_data = pd.read_excel(\"severity_training.xlsx\")\n",
    "test_data = pd.read_excel(\"severity_training.xlsx\")"
   ]
  },
  {
   "cell_type": "code",
   "execution_count": null,
   "id": "8540789a-c4f6-4278-a6b6-ca2fd45f1624",
   "metadata": {},
   "outputs": [],
   "source": [
    "train_data = list(train_data.itertuples(index = False, name = None))\n",
    "valid_data = list(valid_data.itertuples(index = False, name = None))\n",
    "test_data = list(test_data.itertuples(index = False, name = None))"
   ]
  },
  {
   "cell_type": "code",
   "execution_count": null,
   "id": "e97903c3-e059-4712-8f6b-3818fb54f0e5",
   "metadata": {},
   "outputs": [],
   "source": [
    "def remove_punctuation(input_string):\n",
    "        translator = str.maketrans(\"\",\"\", string.punctuation)\n",
    "        return input_string.translate(translator)\n",
    "\n",
    "def note_replacer(note_value):\n",
    "    clean_note = \"\"  \n",
    "    note_value = remove_punctuation(note_value)    \n",
    "    for char in note_value:\n",
    "        if char.isalpha():\n",
    "            clean_note += char.lower()\n",
    "        else:\n",
    "            clean_note += char\n",
    "    return clean_note"
   ]
  },
  {
   "cell_type": "code",
   "execution_count": null,
   "id": "01ced177-2a52-4983-ad6c-b5f2522aa76c",
   "metadata": {},
   "outputs": [],
   "source": [
    "for value in train_data:\n",
    "    index = train_data.index(value)\n",
    "    value = (note_replacer(value[0]), value[1])\n",
    "    train_data[index] = value\n",
    "\n",
    "for value in valid_data:\n",
    "    index = valid_data.index(value)\n",
    "    value = (note_replacer(value[0]), value[1])\n",
    "    valid_data[index] = value"
   ]
  },
  {
   "cell_type": "code",
   "execution_count": null,
   "id": "3ec20854-08d5-4a73-b161-832382a3296c",
   "metadata": {},
   "outputs": [],
   "source": [
    "nlp = spacy.load(\"output/model-best\")"
   ]
  },
  {
   "cell_type": "code",
   "execution_count": null,
   "id": "0739c8ad-73f8-40af-8253-fc7680c724eb",
   "metadata": {},
   "outputs": [],
   "source": [
    "for i in range(1200,1501):\n",
    "    text = (note_replacer(test_data[i][0]))\n",
    "    doc=nlp(text)\n",
    "    print(text)\n",
    "    print(doc.cats)\n",
    "    print()"
   ]
  }
 ],
 "metadata": {
  "kernelspec": {
   "display_name": "Python 3 (ipykernel)",
   "language": "python",
   "name": "python3"
  },
  "language_info": {
   "codemirror_mode": {
    "name": "ipython",
    "version": 3
   },
   "file_extension": ".py",
   "mimetype": "text/x-python",
   "name": "python",
   "nbconvert_exporter": "python",
   "pygments_lexer": "ipython3",
   "version": "3.11.7"
  }
 },
 "nbformat": 4,
 "nbformat_minor": 5
}
