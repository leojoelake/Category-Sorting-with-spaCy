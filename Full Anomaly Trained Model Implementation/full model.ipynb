{
 "cells": [
  {
   "cell_type": "code",
   "execution_count": 3,
   "id": "21111bd2-7953-4a51-bda5-a70d87747198",
   "metadata": {},
   "outputs": [],
   "source": [
    "import pandas\n",
    "import openpyxl\n",
    "import spacy\n",
    "from spacy.tokens import DocBin\n",
    "import string"
   ]
  },
  {
   "cell_type": "code",
   "execution_count": 4,
   "id": "88a1fc1d-19db-428d-b5b8-cc98d1622d56",
   "metadata": {},
   "outputs": [],
   "source": [
    "original_data = pandas.read_excel(\"anomaly database.xlsx\")"
   ]
  },
  {
   "cell_type": "code",
   "execution_count": 5,
   "id": "dcd5b40a-1f9e-4e6a-8565-474351d35a5e",
   "metadata": {},
   "outputs": [
    {
     "name": "stdout",
     "output_type": "stream",
     "text": [
      "Customer\n",
      "Date\n",
      "Asset\n",
      "Movement\n",
      "Notes\n",
      "Rep Count\n"
     ]
    }
   ],
   "source": [
    "for column in original_data:\n",
    "    print(column)"
   ]
  },
  {
   "cell_type": "raw",
   "id": "4e39c3a4-9f04-4f09-8b6a-5c90c9bffc7d",
   "metadata": {},
   "source": [
    "create the list of the anomalies using "
   ]
  },
  {
   "cell_type": "code",
   "execution_count": 6,
   "id": "1854dd6a-e74b-49b7-9c62-287317eadf7e",
   "metadata": {},
   "outputs": [],
   "source": [
    "note_list_unedited = original_data[\"Notes\"].tolist()"
   ]
  },
  {
   "cell_type": "code",
   "execution_count": 7,
   "id": "e326450e-99fb-4574-ae5f-b8f97056039a",
   "metadata": {},
   "outputs": [],
   "source": [
    "def remove_punctuation(input_string):\n",
    "        translator = str.maketrans(\"\",\"\", string.punctuation)\n",
    "        return input_string.translate(translator)\n",
    "\n",
    "def note_replacer(note_value):\n",
    "    clean_note = \"\"  \n",
    "    note_value = remove_punctuation(note_value)    \n",
    "    for char in note_value:\n",
    "        if char.isalpha():\n",
    "            clean_note += char.lower()\n",
    "        else:\n",
    "            clean_note += char\n",
    "    return clean_note"
   ]
  },
  {
   "cell_type": "code",
   "execution_count": 8,
   "id": "72395ee3-5e9b-4f8f-beb2-96e927267cf3",
   "metadata": {},
   "outputs": [],
   "source": [
    "note_list_edited =[]\n",
    "for note in note_list_unedited:\n",
    "    note_list_edited.append(note_replacer(str(note)))"
   ]
  },
  {
   "cell_type": "code",
   "execution_count": 9,
   "id": "ac2ebb9a-ffe2-4390-ba75-cbb4ee686554",
   "metadata": {},
   "outputs": [],
   "source": [
    "anomaly_column_list=[]\n",
    "change_column_list=[]\n",
    "severity_column_list=[]"
   ]
  },
  {
   "cell_type": "code",
   "execution_count": 10,
   "id": "3b1c5a17-f5fb-481f-aed4-0545be1daf23",
   "metadata": {},
   "outputs": [],
   "source": [
    "def fill_anomaly_column(note_list):\n",
    "    list_to_fill=[]\n",
    "    nlp = spacy.load(\"anomaly_best_model/model-best\")\n",
    "    for note in note_list:\n",
    "        cats_dict = nlp(note).cats\n",
    "        category = max(cats_dict, key=cats_dict.get)\n",
    "        list_to_fill.append(category)\n",
    "    return list_to_fill"
   ]
  },
  {
   "cell_type": "code",
   "execution_count": 11,
   "id": "981c7939-14f9-41b0-b51f-ebefce3f46a3",
   "metadata": {},
   "outputs": [],
   "source": [
    "def fill_change_column(note_list):\n",
    "    list_to_fill=[]\n",
    "    nlp = spacy.load(\"change_best_model/model-best\")\n",
    "    for note in note_list:\n",
    "        cats_dict = nlp(note).cats\n",
    "        category = max(cats_dict, key=cats_dict.get)\n",
    "        list_to_fill.append(category)\n",
    "    return list_to_fill"
   ]
  },
  {
   "cell_type": "code",
   "execution_count": 13,
   "id": "41b654cc-a412-4d7e-a5e0-2bc46f4b3233",
   "metadata": {},
   "outputs": [],
   "source": [
    "def fill_severity_column(note_list):\n",
    "    list_to_fill=[]\n",
    "    nlp = spacy.load(\"severity_best_model/model-best\")\n",
    "    for note in note_list:\n",
    "        cats_dict = nlp(note).cats\n",
    "        category = max(cats_dict, key=cats_dict.get)\n",
    "        list_to_fill.append(category)\n",
    "    return list_to_fill"
   ]
  },
  {
   "cell_type": "code",
   "execution_count": 14,
   "id": "35d08f16-6676-4763-b356-865b23508bee",
   "metadata": {},
   "outputs": [],
   "source": [
    "anomaly_column_list=fill_anomaly_column(note_list_edited)"
   ]
  },
  {
   "cell_type": "code",
   "execution_count": 24,
   "id": "9c973e85-f76d-4875-8983-dc27c62c1b75",
   "metadata": {},
   "outputs": [],
   "source": [
    "change_column_list=fill_change_column(note_list_edited)"
   ]
  },
  {
   "cell_type": "code",
   "execution_count": 25,
   "id": "b3b08f54-7ed5-491d-a2fa-fa87d103eb7f",
   "metadata": {},
   "outputs": [],
   "source": [
    "severity_column_list=fill_severity_column(note_list_edited)"
   ]
  },
  {
   "cell_type": "code",
   "execution_count": 26,
   "id": "27fb82e4-2211-4384-a9e1-b10063381c8b",
   "metadata": {},
   "outputs": [],
   "source": [
    "new_data = original_data.copy()"
   ]
  },
  {
   "cell_type": "code",
   "execution_count": 27,
   "id": "ac69a9d8-e411-42ec-95df-2d7cf61b636d",
   "metadata": {},
   "outputs": [],
   "source": [
    "new_data['anomaly'] = anomaly_column_list\n",
    "new_data['change'] = change_column_list\n",
    "new_data['severity'] = severity_column_list"
   ]
  },
  {
   "cell_type": "code",
   "execution_count": 28,
   "id": "b6f0b307-fcdc-46a5-b0bd-a2b177f8d70d",
   "metadata": {},
   "outputs": [],
   "source": [
    "def fill_status_column(data_frame):\n",
    "    status_column =[]\n",
    "    for i in range(len(data_frame)):\n",
    "        if data_frame[\"severity\"].tolist()[i] == \"high\":\n",
    "            status_column.append(\"check\")\n",
    "        elif data_frame[\"change\"].tolist()[i] == \"decrease\" and  data_frame[\"severity\"].tolist()[i] != \"high\":\n",
    "            status_column.append(\"report\")\n",
    "        else:\n",
    "            status_column.append(\"monitor\")\n",
    "    return status_column\n",
    "            "
   ]
  },
  {
   "cell_type": "code",
   "execution_count": 29,
   "id": "ec7631e5-a84b-45ef-9ee2-5889309dd910",
   "metadata": {},
   "outputs": [],
   "source": [
    "status_column = fill_status_column(new_data)"
   ]
  },
  {
   "cell_type": "code",
   "execution_count": 30,
   "id": "247e258f-b297-44c4-b5b0-e1e7d4694863",
   "metadata": {},
   "outputs": [],
   "source": [
    "new_data[\"status\"] = status_column"
   ]
  },
  {
   "cell_type": "code",
   "execution_count": 31,
   "id": "30514277-c702-4940-a744-e6fa278a7fef",
   "metadata": {},
   "outputs": [
    {
     "name": "stdout",
     "output_type": "stream",
     "text": [
      "Customer\n",
      "Date\n",
      "Asset\n",
      "Movement\n",
      "Notes\n",
      "Rep Count\n",
      "anomaly\n",
      "change\n",
      "severity\n",
      "status\n"
     ]
    }
   ],
   "source": [
    "for column in new_data:\n",
    "    print(column)"
   ]
  },
  {
   "cell_type": "code",
   "execution_count": 155,
   "id": "9ea5b905-4df2-498b-be75-957316f76b39",
   "metadata": {},
   "outputs": [],
   "source": [
    "new_data.to_excel('updated anomaly database.xlsx', index = False)"
   ]
  }
 ],
 "metadata": {
  "kernelspec": {
   "display_name": "Python 3 (ipykernel)",
   "language": "python",
   "name": "python3"
  },
  "language_info": {
   "codemirror_mode": {
    "name": "ipython",
    "version": 3
   },
   "file_extension": ".py",
   "mimetype": "text/x-python",
   "name": "python",
   "nbconvert_exporter": "python",
   "pygments_lexer": "ipython3",
   "version": "3.11.7"
  }
 },
 "nbformat": 4,
 "nbformat_minor": 5
}
