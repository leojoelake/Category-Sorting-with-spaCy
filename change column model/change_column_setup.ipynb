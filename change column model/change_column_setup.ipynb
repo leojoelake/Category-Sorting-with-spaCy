{
 "cells": [
  {
   "cell_type": "code",
   "execution_count": 174,
   "id": "7166706e-4e4e-4188-aa58-88fd12eb168f",
   "metadata": {},
   "outputs": [],
   "source": [
    "from spacy.tokens import DocBin\n",
    "import pandas as pd\n",
    "import string\n",
    "import spacy\n",
    "import gensim\n",
    "from gensim.utils import simple_preprocess"
   ]
  },
  {
   "cell_type": "code",
   "execution_count": 176,
   "id": "a70018f1-bf54-4ae0-a009-a38764f6fb00",
   "metadata": {},
   "outputs": [],
   "source": [
    "train_data = pd.read_excel(\"change_training.xlsx\")\n",
    "valid_data = pd.read_excel(\"change_training.xlsx\")"
   ]
  },
  {
   "cell_type": "code",
   "execution_count": 133,
   "id": "c6a3cc4c-d90f-41c8-8763-8003b266fc19",
   "metadata": {},
   "outputs": [],
   "source": [
    "train_data = list(train_data.itertuples(index = False, name = None))\n",
    "valid_data = list(valid_data.itertuples(index = False, name = None))"
   ]
  },
  {
   "cell_type": "code",
   "execution_count": 134,
   "id": "8def8881-906a-4c0c-b36a-5a0c21785f64",
   "metadata": {},
   "outputs": [],
   "source": [
    "def remove_punctuation(input_string):\n",
    "        translator = str.maketrans(\"\",\"\", string.punctuation)\n",
    "        return input_string.translate(translator)\n",
    "\n",
    "def note_replacer(note_value):\n",
    "    clean_note = \"\"  \n",
    "    note_value = remove_punctuation(note_value)    \n",
    "    for char in note_value:\n",
    "        if char.isalpha():\n",
    "            clean_note += char.lower()\n",
    "        else:\n",
    "            clean_note += char\n",
    "    return clean_note"
   ]
  },
  {
   "cell_type": "code",
   "execution_count": 135,
   "id": "fb373d00-847b-4a4f-b569-6728db6dcd0b",
   "metadata": {},
   "outputs": [],
   "source": [
    "for value in train_data:\n",
    "    index = train_data.index(value)\n",
    "    value = (note_replacer(value[0]), value[1])\n",
    "    train_data[index] = value\n",
    "\n",
    "for value in valid_data:\n",
    "    index = valid_data.index(value)\n",
    "    value = (note_replacer(value[0]), value[1])\n",
    "    valid_data[index] = value"
   ]
  },
  {
   "cell_type": "code",
   "execution_count": 152,
   "id": "9296c648-aaeb-4553-951d-d18dbf3c0fa2",
   "metadata": {},
   "outputs": [],
   "source": [
    "def make_docs(data):\n",
    "    docs = []\n",
    "    for doc, label in nlp.pipe(data, as_tuples = True):\n",
    "        if label == \"increase\":\n",
    "            doc.cats[\"increase\"] = 1\n",
    "            doc.cats[\"decrease\"] = 0\n",
    "            doc.cats[\"erratic\"] = 0\n",
    "        elif label == \"decrease\":\n",
    "            doc.cats[\"increase\"] = 0\n",
    "            doc.cats[\"decrease\"] = 1\n",
    "            doc.cats[\"erratic\"] = 0\n",
    "        elif label == \"erratic\":\n",
    "            doc.cats[\"increase\"] = 0\n",
    "            doc.cats[\"decrease\"] = 0\n",
    "            doc.cats[\"erratic\"] = 1\n",
    "        docs.append(doc)\n",
    "    return(docs)"
   ]
  },
  {
   "cell_type": "code",
   "execution_count": 154,
   "id": "8e997023-1af1-468c-adaa-4b7d95fbed1f",
   "metadata": {},
   "outputs": [],
   "source": [
    "nlp = spacy.load(\"en_core_web_lg\")"
   ]
  },
  {
   "cell_type": "code",
   "execution_count": 155,
   "id": "ed218371-2190-44af-84f4-72db00eb86f0",
   "metadata": {},
   "outputs": [],
   "source": [
    "num_texts = 1000\n",
    "\n",
    "train_docs = make_docs(train_data[:num_texts])\n",
    "doc_bin = DocBin(docs=train_docs)\n",
    "doc_bin.to_disk(\"./data/train.spacy\")\n",
    "\n",
    "valid_docs = make_docs(valid_data[:num_texts])\n",
    "doc_bin = DocBin(docs=valid_docs)\n",
    "doc_bin.to_disk(\"./data/valid.spacy\")"
   ]
  },
  {
   "cell_type": "code",
   "execution_count": null,
   "id": "ab186155-1495-4be6-94c0-9344ccb7daef",
   "metadata": {},
   "outputs": [],
   "source": []
  },
  {
   "cell_type": "code",
   "execution_count": null,
   "id": "b5909b62-a08e-457a-95ea-a0b95670b8f0",
   "metadata": {},
   "outputs": [],
   "source": []
  }
 ],
 "metadata": {
  "kernelspec": {
   "display_name": "Python 3 (ipykernel)",
   "language": "python",
   "name": "python3"
  },
  "language_info": {
   "codemirror_mode": {
    "name": "ipython",
    "version": 3
   },
   "file_extension": ".py",
   "mimetype": "text/x-python",
   "name": "python",
   "nbconvert_exporter": "python",
   "pygments_lexer": "ipython3",
   "version": "3.11.7"
  }
 },
 "nbformat": 4,
 "nbformat_minor": 5
}
