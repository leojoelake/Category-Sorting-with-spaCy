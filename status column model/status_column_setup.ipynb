{
 "cells": [
  {
   "cell_type": "code",
   "execution_count": 3,
   "id": "94e75e9b-b4ad-4e87-a299-ed7e5a5ab99b",
   "metadata": {},
   "outputs": [],
   "source": [
    "from spacy.tokens import DocBin\n",
    "import pandas as pd\n",
    "import string\n",
    "import spacy\n",
    "import gensim\n",
    "from gensim.utils import simple_preprocess"
   ]
  },
  {
   "cell_type": "code",
   "execution_count": null,
   "id": "9b2a37ba-db12-4ecd-8b0b-0267540ef7f9",
   "metadata": {},
   "outputs": [],
   "source": [
    "train_data = pd.read_excel(\"severity_training.xlsx\")\n",
    "valid_data = pd.read_excel(\"severity_training.xlsx\")"
   ]
  },
  {
   "cell_type": "code",
   "execution_count": null,
   "id": "34d17fa3-f118-4d9b-bf43-59e0f2d77bdf",
   "metadata": {},
   "outputs": [],
   "source": [
    "train_data = list(train_data.itertuples(index = False, name = None))\n",
    "valid_data = list(valid_data.itertuples(index = False, name = None))"
   ]
  },
  {
   "cell_type": "code",
   "execution_count": null,
   "id": "57e8ae3f-edf5-418e-8ecc-17714e90790d",
   "metadata": {},
   "outputs": [],
   "source": [
    "def remove_punctuation(input_string):\n",
    "        translator = str.maketrans(\"\",\"\", string.punctuation)\n",
    "        return input_string.translate(translator)\n",
    "\n",
    "def note_replacer(note_value):\n",
    "    clean_note = \"\"  \n",
    "    note_value = remove_punctuation(note_value)    \n",
    "    for char in note_value:\n",
    "        if char.isalpha():\n",
    "            clean_note += char.lower()\n",
    "        else:\n",
    "            clean_note += char\n",
    "    return clean_note"
   ]
  },
  {
   "cell_type": "code",
   "execution_count": null,
   "id": "b917f77a-b3d1-4906-b29c-e671c5a26400",
   "metadata": {},
   "outputs": [],
   "source": [
    "for value in train_data:\n",
    "    index = train_data.index(value)\n",
    "    value = (note_replacer(value[0]), value[1])\n",
    "    train_data[index] = value\n",
    "\n",
    "for value in valid_data:\n",
    "    index = valid_data.index(value)\n",
    "    value = (note_replacer(value[0]), value[1])\n",
    "    valid_data[index] = value"
   ]
  },
  {
   "cell_type": "code",
   "execution_count": null,
   "id": "c4c40b77-d337-49cd-a197-4f1b4ee94145",
   "metadata": {},
   "outputs": [],
   "source": [
    "def make_docs(data):\n",
    "    docs = []\n",
    "    for doc, label in nlp.pipe(data, as_tuples = True):\n",
    "        if label == \"low\":\n",
    "            doc.cats[\"low\"] = 1\n",
    "            doc.cats[\"moderate\"] = 0\n",
    "            doc.cats[\"high\"] = 0\n",
    "        elif label == \"moderate\":\n",
    "            doc.cats[\"low\"] = 0\n",
    "            doc.cats[\"moderate\"] = 1\n",
    "            doc.cats[\"high\"] = 0\n",
    "        elif label == \"high\":\n",
    "            doc.cats[\"low\"] = 0\n",
    "            doc.cats[\"moderate\"] = 0\n",
    "            doc.cats[\"high\"] = 1\n",
    "        docs.append(doc)\n",
    "    return(docs)"
   ]
  },
  {
   "cell_type": "code",
   "execution_count": null,
   "id": "a3dfaeab-18ee-4265-a7af-fe37182304a2",
   "metadata": {},
   "outputs": [],
   "source": [
    "nlp = spacy.load(\"en_core_web_lg\")"
   ]
  },
  {
   "cell_type": "code",
   "execution_count": null,
   "id": "a389975a-13fa-4dfd-bdd8-0a96a2179823",
   "metadata": {},
   "outputs": [],
   "source": [
    "num_texts = 1000\n",
    "\n",
    "train_docs = make_docs(train_data[:num_texts])\n",
    "doc_bin = DocBin(docs=train_docs)\n",
    "doc_bin.to_disk(\"./data/train.spacy\")\n",
    "\n",
    "valid_docs = make_docs(valid_data[:num_texts])\n",
    "doc_bin = DocBin(docs=valid_docs)\n",
    "doc_bin.to_disk(\"./data/valid.spacy\")"
   ]
  }
 ],
 "metadata": {
  "kernelspec": {
   "display_name": "Python 3 (ipykernel)",
   "language": "python",
   "name": "python3"
  },
  "language_info": {
   "codemirror_mode": {
    "name": "ipython",
    "version": 3
   },
   "file_extension": ".py",
   "mimetype": "text/x-python",
   "name": "python",
   "nbconvert_exporter": "python",
   "pygments_lexer": "ipython3",
   "version": "3.11.7"
  }
 },
 "nbformat": 4,
 "nbformat_minor": 5
}
