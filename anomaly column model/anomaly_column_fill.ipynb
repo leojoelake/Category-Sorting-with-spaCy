{
 "cells": [
  {
   "cell_type": "code",
   "execution_count": 39,
   "id": "111ed9dd-d56d-43e9-9a8f-13450588b40b",
   "metadata": {},
   "outputs": [],
   "source": [
    "import spacy\n",
    "import string\n",
    "import pandas as pd\n",
    "import gensim\n",
    "from gensim.utils import simple_preprocess"
   ]
  },
  {
   "cell_type": "code",
   "execution_count": 41,
   "id": "e27f5f51-9026-4394-b77f-fa6afe6f719b",
   "metadata": {},
   "outputs": [],
   "source": [
    "train_data = pd.read_excel(\"anomaly_training.xlsx\")\n",
    "valid_data = pd.read_excel(\"anomaly_training.xlsx\")\n",
    "test_data = pd.read_excel(\"anomaly_training.xlsx\")"
   ]
  },
  {
   "cell_type": "code",
   "execution_count": 42,
   "id": "019c01f9-2c4d-463a-8b52-0a6153c62d63",
   "metadata": {},
   "outputs": [],
   "source": [
    "train_data = list(train_data.itertuples(index = False, name = None))\n",
    "valid_data = list(valid_data.itertuples(index = False, name = None))\n",
    "test_data = list(test_data.itertuples(index = False, name = None))"
   ]
  },
  {
   "cell_type": "code",
   "execution_count": 45,
   "id": "f8abc3c5-1634-4e3d-96b5-3b95c60cbe80",
   "metadata": {},
   "outputs": [],
   "source": [
    "def remove_punctuation(input_string):\n",
    "        translator = str.maketrans(\"\",\"\", string.punctuation)\n",
    "        return input_string.translate(translator)\n",
    "\n",
    "def note_replacer(note_value):\n",
    "    clean_note = \"\"  \n",
    "    note_value = remove_punctuation(note_value)    \n",
    "    for char in note_value:\n",
    "        if char.isalpha():\n",
    "            clean_note += char.lower()\n",
    "        else:\n",
    "            clean_note += char\n",
    "    return clean_note"
   ]
  },
  {
   "cell_type": "code",
   "execution_count": 47,
   "id": "847828fc-bbc3-4f86-865a-d0338c13cd61",
   "metadata": {},
   "outputs": [],
   "source": [
    "for value in train_data:\n",
    "    index = train_data.index(value)\n",
    "    value = (note_replacer(value[0]), value[1])\n",
    "    train_data[index] = value\n",
    "\n",
    "for value in valid_data:\n",
    "    index = valid_data.index(value)\n",
    "    value = (note_replacer(value[0]), value[1])\n",
    "    valid_data[index] = value"
   ]
  },
  {
   "cell_type": "code",
   "execution_count": 184,
   "id": "d1aac092-f229-49e7-8fbf-a5413d2355d7",
   "metadata": {},
   "outputs": [],
   "source": [
    "text = (\"greatly above run time\", None)"
   ]
  },
  {
   "cell_type": "code",
   "execution_count": 186,
   "id": "52f3f14f-ad07-481d-b1c2-e1cd8995d90d",
   "metadata": {},
   "outputs": [],
   "source": [
    "nlp = spacy.load(\"output/model-best\")"
   ]
  },
  {
   "cell_type": "code",
   "execution_count": 187,
   "id": "a9a5aaf8-92b0-4fd5-b8a5-9f0907fffc8d",
   "metadata": {},
   "outputs": [],
   "source": [
    "doc = nlp(text[0])"
   ]
  },
  {
   "cell_type": "code",
   "execution_count": 188,
   "id": "b69896bf-a986-4161-abe0-a9d47a16de8d",
   "metadata": {},
   "outputs": [
    {
     "name": "stdout",
     "output_type": "stream",
     "text": [
      "{'runtime': 1.0, 'variance': 2.061153470123145e-09}\n"
     ]
    }
   ],
   "source": [
    "print(doc.cats)"
   ]
  },
  {
   "cell_type": "code",
   "execution_count": 189,
   "id": "e1facf45-f41e-4551-835e-2c7f34c7845f",
   "metadata": {},
   "outputs": [
    {
     "name": "stdout",
     "output_type": "stream",
     "text": [
      "('greatly above run time', None)\n"
     ]
    }
   ],
   "source": [
    "print(text)"
   ]
  },
  {
   "cell_type": "code",
   "execution_count": null,
   "id": "1a774141-dd67-445f-9cce-5ef677a8fe8a",
   "metadata": {},
   "outputs": [],
   "source": []
  },
  {
   "cell_type": "code",
   "execution_count": null,
   "id": "9f28d8fb-d066-4b72-bf98-4c095b946244",
   "metadata": {},
   "outputs": [],
   "source": []
  }
 ],
 "metadata": {
  "kernelspec": {
   "display_name": "Python 3 (ipykernel)",
   "language": "python",
   "name": "python3"
  },
  "language_info": {
   "codemirror_mode": {
    "name": "ipython",
    "version": 3
   },
   "file_extension": ".py",
   "mimetype": "text/x-python",
   "name": "python",
   "nbconvert_exporter": "python",
   "pygments_lexer": "ipython3",
   "version": "3.11.7"
  }
 },
 "nbformat": 4,
 "nbformat_minor": 5
}
