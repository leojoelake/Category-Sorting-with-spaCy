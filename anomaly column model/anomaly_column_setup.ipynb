{
 "cells": [
  {
   "cell_type": "code",
   "execution_count": 83,
   "id": "c36fa185-b706-4453-9101-e3ee616a94ca",
   "metadata": {},
   "outputs": [],
   "source": [
    "from spacy.tokens import DocBin\n",
    "import pandas as pd\n",
    "import string\n",
    "import spacy\n",
    "import gensim\n",
    "from gensim.utils import simple_preprocess"
   ]
  },
  {
   "cell_type": "code",
   "execution_count": 85,
   "id": "d1fcab4d-c708-435c-9238-9ad412711c6f",
   "metadata": {},
   "outputs": [],
   "source": [
    "train_data = pd.read_excel(\"anomaly_training.xlsx\")\n",
    "valid_data = pd.read_excel(\"anomaly_training.xlsx\")"
   ]
  },
  {
   "cell_type": "code",
   "execution_count": 86,
   "id": "4162e2d0-e865-4996-9f63-82e423ce1c6d",
   "metadata": {},
   "outputs": [],
   "source": [
    "train_data = list(train_data.itertuples(index = False, name = None))\n",
    "valid_data = list(valid_data.itertuples(index = False, name = None))"
   ]
  },
  {
   "cell_type": "code",
   "execution_count": 87,
   "id": "aa8a4dc7-07e2-4b63-9d25-0518805b4739",
   "metadata": {},
   "outputs": [],
   "source": [
    "def remove_punctuation(input_string):\n",
    "        translator = str.maketrans(\"\",\"\", string.punctuation)\n",
    "        return input_string.translate(translator)\n",
    "\n",
    "def note_replacer(note_value):\n",
    "    clean_note = \"\"  \n",
    "    note_value = remove_punctuation(note_value)    \n",
    "    for char in note_value:\n",
    "        if char.isalpha():\n",
    "            clean_note += char.lower()\n",
    "        else:\n",
    "            clean_note += char\n",
    "    return clean_note"
   ]
  },
  {
   "cell_type": "code",
   "execution_count": 88,
   "id": "915a5d0c-bad2-4318-af18-8a42c2c04a65",
   "metadata": {},
   "outputs": [],
   "source": [
    "for value in train_data:\n",
    "    index = train_data.index(value)\n",
    "    value = (note_replacer(value[0]), value[1])\n",
    "    train_data[index] = value\n",
    "\n",
    "for value in valid_data:\n",
    "    index = valid_data.index(value)\n",
    "    value = (note_replacer(value[0]), value[1])\n",
    "    valid_data[index] = value"
   ]
  },
  {
   "cell_type": "code",
   "execution_count": 89,
   "id": "46a1c937-7c7e-4b31-9005-1a0c7bb1dac0",
   "metadata": {},
   "outputs": [],
   "source": [
    "def make_docs(data):\n",
    "    docs = []\n",
    "    for doc, label in nlp.pipe(data, as_tuples = True):\n",
    "        if label == \"runtime\":\n",
    "            doc.cats[\"runtime\"] = 1\n",
    "            doc.cats[\"variance\"] = 0\n",
    "        else:\n",
    "            doc.cats[\"runtime\"] = 0\n",
    "            doc.cats[\"variance\"] = 1\n",
    "        docs.append(doc)\n",
    "    return(docs)"
   ]
  },
  {
   "cell_type": "code",
   "execution_count": 90,
   "id": "1855a9dc-87b4-464e-8a3a-eb36554e74b3",
   "metadata": {},
   "outputs": [],
   "source": [
    "nlp = spacy.load(\"en_core_web_lg\")"
   ]
  },
  {
   "cell_type": "code",
   "execution_count": 91,
   "id": "6f58e868-dc2e-4153-ba3f-a5f5e0ae6ca1",
   "metadata": {},
   "outputs": [],
   "source": [
    "num_texts = 1300\n",
    "\n",
    "train_docs = make_docs(train_data[:num_texts])\n",
    "doc_bin = DocBin(docs=train_docs)\n",
    "doc_bin.to_disk(\"./data/train.spacy\")\n",
    "\n",
    "valid_docs = make_docs(valid_data[:num_texts])\n",
    "doc_bin = DocBin(docs=valid_docs)\n",
    "doc_bin.to_disk(\"./data/valid.spacy\")"
   ]
  },
  {
   "cell_type": "code",
   "execution_count": null,
   "id": "b3029ac9-36ae-4a4a-945f-95dbe262ad70",
   "metadata": {},
   "outputs": [],
   "source": []
  }
 ],
 "metadata": {
  "kernelspec": {
   "display_name": "Python 3 (ipykernel)",
   "language": "python",
   "name": "python3"
  },
  "language_info": {
   "codemirror_mode": {
    "name": "ipython",
    "version": 3
   },
   "file_extension": ".py",
   "mimetype": "text/x-python",
   "name": "python",
   "nbconvert_exporter": "python",
   "pygments_lexer": "ipython3",
   "version": "3.11.7"
  }
 },
 "nbformat": 4,
 "nbformat_minor": 5
}
